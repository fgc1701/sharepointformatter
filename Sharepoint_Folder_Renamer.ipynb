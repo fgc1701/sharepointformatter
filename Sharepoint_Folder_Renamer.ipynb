{
  "nbformat": 4,
  "nbformat_minor": 0,
  "metadata": {
    "colab": {
      "provenance": []
    },
    "kernelspec": {
      "name": "python3",
      "display_name": "Python 3"
    },
    "language_info": {
      "name": "python"
    },
    "widgets": {
      "application/vnd.jupyter.widget-state+json": {
        "a3a5443707c54c2cb665a53e5abb8190": {
          "model_module": "@jupyter-widgets/controls",
          "model_name": "TextareaModel",
          "model_module_version": "1.5.0",
          "state": {
            "_dom_classes": [],
            "_model_module": "@jupyter-widgets/controls",
            "_model_module_version": "1.5.0",
            "_model_name": "TextareaModel",
            "_view_count": null,
            "_view_module": "@jupyter-widgets/controls",
            "_view_module_version": "1.5.0",
            "_view_name": "TextareaView",
            "continuous_update": true,
            "description": "",
            "description_tooltip": null,
            "disabled": false,
            "layout": "IPY_MODEL_4c1091aa4cec41ed89ca0fdb6c079ad4",
            "placeholder": "Input the Internal ID + Description:",
            "rows": 5,
            "style": "IPY_MODEL_6271fda456524185839f49753eef5c1f",
            "value": ""
          }
        },
        "4c1091aa4cec41ed89ca0fdb6c079ad4": {
          "model_module": "@jupyter-widgets/base",
          "model_name": "LayoutModel",
          "model_module_version": "1.2.0",
          "state": {
            "_model_module": "@jupyter-widgets/base",
            "_model_module_version": "1.2.0",
            "_model_name": "LayoutModel",
            "_view_count": null,
            "_view_module": "@jupyter-widgets/base",
            "_view_module_version": "1.2.0",
            "_view_name": "LayoutView",
            "align_content": null,
            "align_items": null,
            "align_self": null,
            "border": null,
            "bottom": null,
            "display": null,
            "flex": null,
            "flex_flow": null,
            "grid_area": null,
            "grid_auto_columns": null,
            "grid_auto_flow": null,
            "grid_auto_rows": null,
            "grid_column": null,
            "grid_gap": null,
            "grid_row": null,
            "grid_template_areas": null,
            "grid_template_columns": null,
            "grid_template_rows": null,
            "height": null,
            "justify_content": null,
            "justify_items": null,
            "left": null,
            "margin": null,
            "max_height": null,
            "max_width": null,
            "min_height": null,
            "min_width": null,
            "object_fit": null,
            "object_position": null,
            "order": null,
            "overflow": null,
            "overflow_x": null,
            "overflow_y": null,
            "padding": null,
            "right": null,
            "top": null,
            "visibility": null,
            "width": "auto"
          }
        },
        "6271fda456524185839f49753eef5c1f": {
          "model_module": "@jupyter-widgets/controls",
          "model_name": "DescriptionStyleModel",
          "model_module_version": "1.5.0",
          "state": {
            "_model_module": "@jupyter-widgets/controls",
            "_model_module_version": "1.5.0",
            "_model_name": "DescriptionStyleModel",
            "_view_count": null,
            "_view_module": "@jupyter-widgets/base",
            "_view_module_version": "1.2.0",
            "_view_name": "StyleView",
            "description_width": ""
          }
        },
        "0785513f50b9496499d8607e9deeb828": {
          "model_module": "@jupyter-widgets/controls",
          "model_name": "ButtonModel",
          "model_module_version": "1.5.0",
          "state": {
            "_dom_classes": [],
            "_model_module": "@jupyter-widgets/controls",
            "_model_module_version": "1.5.0",
            "_model_name": "ButtonModel",
            "_view_count": null,
            "_view_module": "@jupyter-widgets/controls",
            "_view_module_version": "1.5.0",
            "_view_name": "ButtonView",
            "button_style": "",
            "description": "Submit",
            "disabled": false,
            "icon": "",
            "layout": "IPY_MODEL_311a40cfd9534930958b80e40bc5b759",
            "style": "IPY_MODEL_435e604b78704df69c39a924c14c9789",
            "tooltip": ""
          }
        },
        "311a40cfd9534930958b80e40bc5b759": {
          "model_module": "@jupyter-widgets/base",
          "model_name": "LayoutModel",
          "model_module_version": "1.2.0",
          "state": {
            "_model_module": "@jupyter-widgets/base",
            "_model_module_version": "1.2.0",
            "_model_name": "LayoutModel",
            "_view_count": null,
            "_view_module": "@jupyter-widgets/base",
            "_view_module_version": "1.2.0",
            "_view_name": "LayoutView",
            "align_content": null,
            "align_items": null,
            "align_self": null,
            "border": null,
            "bottom": null,
            "display": null,
            "flex": null,
            "flex_flow": null,
            "grid_area": null,
            "grid_auto_columns": null,
            "grid_auto_flow": null,
            "grid_auto_rows": null,
            "grid_column": null,
            "grid_gap": null,
            "grid_row": null,
            "grid_template_areas": null,
            "grid_template_columns": null,
            "grid_template_rows": null,
            "height": null,
            "justify_content": null,
            "justify_items": null,
            "left": null,
            "margin": null,
            "max_height": null,
            "max_width": null,
            "min_height": null,
            "min_width": null,
            "object_fit": null,
            "object_position": null,
            "order": null,
            "overflow": null,
            "overflow_x": null,
            "overflow_y": null,
            "padding": null,
            "right": null,
            "top": null,
            "visibility": null,
            "width": null
          }
        },
        "435e604b78704df69c39a924c14c9789": {
          "model_module": "@jupyter-widgets/controls",
          "model_name": "ButtonStyleModel",
          "model_module_version": "1.5.0",
          "state": {
            "_model_module": "@jupyter-widgets/controls",
            "_model_module_version": "1.5.0",
            "_model_name": "ButtonStyleModel",
            "_view_count": null,
            "_view_module": "@jupyter-widgets/base",
            "_view_module_version": "1.2.0",
            "_view_name": "StyleView",
            "button_color": null,
            "font_weight": ""
          }
        },
        "5cb61a8653f74f38b6c16a5046f453a9": {
          "model_module": "@jupyter-widgets/controls",
          "model_name": "HTMLModel",
          "model_module_version": "1.5.0",
          "state": {
            "_dom_classes": [],
            "_model_module": "@jupyter-widgets/controls",
            "_model_module_version": "1.5.0",
            "_model_name": "HTMLModel",
            "_view_count": null,
            "_view_module": "@jupyter-widgets/controls",
            "_view_module_version": "1.5.0",
            "_view_name": "HTMLView",
            "description": "",
            "description_tooltip": null,
            "layout": "IPY_MODEL_7967e8b2d9304074b5c3b3757aa67b09",
            "placeholder": "​",
            "style": "IPY_MODEL_aeefd973bf81467daf4d1429bc081f85",
            "value": ""
          }
        },
        "7967e8b2d9304074b5c3b3757aa67b09": {
          "model_module": "@jupyter-widgets/base",
          "model_name": "LayoutModel",
          "model_module_version": "1.2.0",
          "state": {
            "_model_module": "@jupyter-widgets/base",
            "_model_module_version": "1.2.0",
            "_model_name": "LayoutModel",
            "_view_count": null,
            "_view_module": "@jupyter-widgets/base",
            "_view_module_version": "1.2.0",
            "_view_name": "LayoutView",
            "align_content": null,
            "align_items": null,
            "align_self": null,
            "border": null,
            "bottom": null,
            "display": null,
            "flex": null,
            "flex_flow": null,
            "grid_area": null,
            "grid_auto_columns": null,
            "grid_auto_flow": null,
            "grid_auto_rows": null,
            "grid_column": null,
            "grid_gap": null,
            "grid_row": null,
            "grid_template_areas": null,
            "grid_template_columns": null,
            "grid_template_rows": null,
            "height": null,
            "justify_content": null,
            "justify_items": null,
            "left": null,
            "margin": null,
            "max_height": null,
            "max_width": null,
            "min_height": null,
            "min_width": null,
            "object_fit": null,
            "object_position": null,
            "order": null,
            "overflow": null,
            "overflow_x": null,
            "overflow_y": null,
            "padding": null,
            "right": null,
            "top": null,
            "visibility": null,
            "width": "auto"
          }
        },
        "aeefd973bf81467daf4d1429bc081f85": {
          "model_module": "@jupyter-widgets/controls",
          "model_name": "DescriptionStyleModel",
          "model_module_version": "1.5.0",
          "state": {
            "_model_module": "@jupyter-widgets/controls",
            "_model_module_version": "1.5.0",
            "_model_name": "DescriptionStyleModel",
            "_view_count": null,
            "_view_module": "@jupyter-widgets/base",
            "_view_module_version": "1.2.0",
            "_view_name": "StyleView",
            "description_width": ""
          }
        }
      }
    }
  },
  "cells": [
    {
      "cell_type": "code",
      "source": [
        "import ipywidgets as widgets\n",
        "from IPython.display import display, HTML, Javascript\n",
        "import re\n",
        "\n",
        "def reformat_info(b):\n",
        "    info = text.value\n",
        "    # Remove trailing full stops\n",
        "    info = info.rstrip('.')\n",
        "\n",
        "    # Replace all forward slashes with underscores\n",
        "    info = info.replace('/', '_').replace('|', '')\n",
        "\n",
        "    # Replace any double spaces with single spaces\n",
        "    info = re.sub(r'\\s+', ' ', info)\n",
        "\n",
        "    # Calculate the character count\n",
        "    character_count = len(info)\n",
        "\n",
        "    # Check if the character count is over 200 and show a warning message\n",
        "    if character_count > 200:\n",
        "        warning_message = \"<b style='color: red;'>Warning: Character count exceeds 200! (Description may be truncated)</b>\"\n",
        "        count_color = \"red\"\n",
        "    else:\n",
        "        warning_message = \"\"\n",
        "        count_color = \"green\"\n",
        "\n",
        "    # Create a unique ID for the text container and the copy button\n",
        "    text_id = 'formatted_output'\n",
        "    button_id = 'copy_button'\n",
        "\n",
        "    # JavaScript for copying the text to the clipboard when the button is clicked\n",
        "    js_code = f\"\"\"\n",
        "    document.querySelector(\"#{button_id}\").addEventListener(\"click\", function() {{\n",
        "        var text = document.querySelector(\"#{text_id}\").innerText;\n",
        "        var element = document.createElement(\"textarea\");\n",
        "        element.value = text;\n",
        "        document.body.appendChild(element);\n",
        "        element.select();\n",
        "        document.execCommand(\"copy\");\n",
        "        document.body.removeChild(element);\n",
        "    }});\n",
        "    \"\"\"\n",
        "\n",
        "    # Display the result, character count, and the copy button in the output field\n",
        "    output_field = f\"\"\"\n",
        "    <b>Formatted Output:</b><br><br>\n",
        "    <span id=\"{text_id}\">{info}</span>\n",
        "    <button id=\"{button_id}\">Copy to Clipboard</button>\n",
        "    <br><br><b>Character count:</b> <span style='color: {count_color};'>{character_count}</span><br><br>{warning_message}\n",
        "    \"\"\"\n",
        "    output_display.value = output_field\n",
        "    display(Javascript(js_code))\n",
        "\n",
        "text = widgets.Textarea(value='',\n",
        "                        placeholder='Input the Internal ID + Description:',\n",
        "                        description='',\n",
        "                        rows=5,\n",
        "                        layout=widgets.Layout(width='auto'))\n",
        "\n",
        "submit = widgets.Button(description='Submit')\n",
        "output_display = widgets.HTML(value='', layout=widgets.Layout(width='auto'))\n",
        "\n",
        "submit.on_click(reformat_info)\n",
        "\n",
        "display(text, submit, output_display)\n",
        "\n"
      ],
      "metadata": {
        "colab": {
          "base_uri": "https://localhost:8080/",
          "height": 142,
          "referenced_widgets": [
            "a3a5443707c54c2cb665a53e5abb8190",
            "4c1091aa4cec41ed89ca0fdb6c079ad4",
            "6271fda456524185839f49753eef5c1f",
            "0785513f50b9496499d8607e9deeb828",
            "311a40cfd9534930958b80e40bc5b759",
            "435e604b78704df69c39a924c14c9789",
            "5cb61a8653f74f38b6c16a5046f453a9",
            "7967e8b2d9304074b5c3b3757aa67b09",
            "aeefd973bf81467daf4d1429bc081f85"
          ]
        },
        "id": "jqSUN_MKjoho",
        "outputId": "93313ec0-2f89-4ebf-f368-277ee07e8ca4"
      },
      "execution_count": null,
      "outputs": [
        {
          "output_type": "display_data",
          "data": {
            "text/plain": [
              "Textarea(value='', layout=Layout(width='auto'), placeholder='Input the Internal ID + Description:', rows=5)"
            ],
            "application/vnd.jupyter.widget-view+json": {
              "version_major": 2,
              "version_minor": 0,
              "model_id": "a3a5443707c54c2cb665a53e5abb8190"
            }
          },
          "metadata": {}
        },
        {
          "output_type": "display_data",
          "data": {
            "text/plain": [
              "Button(description='Submit', style=ButtonStyle())"
            ],
            "application/vnd.jupyter.widget-view+json": {
              "version_major": 2,
              "version_minor": 0,
              "model_id": "0785513f50b9496499d8607e9deeb828"
            }
          },
          "metadata": {}
        },
        {
          "output_type": "display_data",
          "data": {
            "text/plain": [
              "HTML(value='', layout=Layout(width='auto'))"
            ],
            "application/vnd.jupyter.widget-view+json": {
              "version_major": 2,
              "version_minor": 0,
              "model_id": "5cb61a8653f74f38b6c16a5046f453a9"
            }
          },
          "metadata": {}
        }
      ]
    }
  ]
}